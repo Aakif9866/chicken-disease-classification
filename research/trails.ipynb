{
 "cells": [
  {
   "cell_type": "code",
   "execution_count": 2,
   "id": "89fb0e8b",
   "metadata": {},
   "outputs": [],
   "source": [
    "# use of config box -> to make extractions from dictionary easier\n",
    "# and ensure annotation -> to make sure functions follow data types\n",
    "# very very important"
   ]
  },
  {
   "cell_type": "code",
   "execution_count": null,
   "id": "b7640213",
   "metadata": {},
   "outputs": [],
   "source": []
  },
  {
   "cell_type": "code",
   "execution_count": null,
   "id": "404018f1",
   "metadata": {},
   "outputs": [],
   "source": []
  }
 ],
 "metadata": {
  "kernelspec": {
   "display_name": "envo",
   "language": "python",
   "name": "python3"
  },
  "language_info": {
   "codemirror_mode": {
    "name": "ipython",
    "version": 3
   },
   "file_extension": ".py",
   "mimetype": "text/x-python",
   "name": "python",
   "nbconvert_exporter": "python",
   "pygments_lexer": "ipython3",
   "version": "3.12.4"
  }
 },
 "nbformat": 4,
 "nbformat_minor": 5
}
